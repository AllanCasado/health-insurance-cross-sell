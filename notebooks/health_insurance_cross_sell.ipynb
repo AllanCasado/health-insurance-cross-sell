{
 "cells": [
  {
   "cell_type": "markdown",
   "id": "c6e69331",
   "metadata": {
    "heading_collapsed": true
   },
   "source": [
    "# 0.0 Imports"
   ]
  },
  {
   "cell_type": "code",
   "execution_count": 86,
   "id": "3c4e21c4",
   "metadata": {
    "ExecuteTime": {
     "end_time": "2023-02-28T13:18:06.806260Z",
     "start_time": "2023-02-28T13:18:01.331374Z"
    },
    "hidden": true
   },
   "outputs": [],
   "source": [
    "import psycopg2\n",
    "import pandas as pd\n",
    "import numpy as np\n",
    "import seaborn as sns\n",
    "import matplotlib.pyplot as plt"
   ]
  },
  {
   "cell_type": "markdown",
   "id": "8c26e2aa",
   "metadata": {
    "heading_collapsed": true
   },
   "source": [
    "# 1.0 Data Collection"
   ]
  },
  {
   "cell_type": "markdown",
   "id": "0fc36d97",
   "metadata": {
    "heading_collapsed": true,
    "hidden": true
   },
   "source": [
    "### Database connection"
   ]
  },
  {
   "cell_type": "code",
   "execution_count": 27,
   "id": "64b53afb",
   "metadata": {
    "ExecuteTime": {
     "end_time": "2023-02-27T13:05:49.880504Z",
     "start_time": "2023-02-27T13:05:49.058116Z"
    },
    "hidden": true
   },
   "outputs": [],
   "source": [
    "# host = \"comunidade-ds-postgres.c50pcakiuwi3.us-east-1.rds.amazonaws.com\"\n",
    "# port = 5432\n",
    "# database = \"comunidadedsdb\"\n",
    "# username = \"member\"\n",
    "# password = \"cdspa\"\n",
    "\n",
    "# conn = psycopg2.connect(\n",
    "#             host=host,\n",
    "#             port=port,\n",
    "#             database=database,\n",
    "#             user=username,\n",
    "#             password=password\n",
    "#         )\n",
    "\n",
    "# cursor = conn.cursor()"
   ]
  },
  {
   "cell_type": "markdown",
   "id": "c8f123e1",
   "metadata": {
    "heading_collapsed": true,
    "hidden": true
   },
   "source": [
    "### Getting existing tables from 'pa004' schema"
   ]
  },
  {
   "cell_type": "code",
   "execution_count": 35,
   "id": "3bdd82ff",
   "metadata": {
    "ExecuteTime": {
     "end_time": "2023-02-27T13:07:34.669588Z",
     "start_time": "2023-02-27T13:07:34.534522Z"
    },
    "code_folding": [],
    "hidden": true
   },
   "outputs": [
    {
     "name": "stdout",
     "output_type": "stream",
     "text": [
      "users\n",
      "vehicle\n",
      "insurance\n"
     ]
    }
   ],
   "source": [
    "# cursor.execute(\n",
    "#     \"SELECT tablename FROM pg_catalog.pg_tables WHERE schemaname NOT IN ('pg_catalog', 'information_schema', 'public');\"\n",
    "# )\n",
    "\n",
    "# rows = cursor.fetchall()\n",
    "\n",
    "# for row in rows:\n",
    "#     print(row[0])"
   ]
  },
  {
   "cell_type": "markdown",
   "id": "9c847212",
   "metadata": {
    "heading_collapsed": true,
    "hidden": true
   },
   "source": [
    "### Getting all data from 'users' table"
   ]
  },
  {
   "cell_type": "code",
   "execution_count": 54,
   "id": "486c1d70",
   "metadata": {
    "ExecuteTime": {
     "end_time": "2023-02-27T13:28:03.906142Z",
     "start_time": "2023-02-27T13:28:03.897774Z"
    },
    "hidden": true
   },
   "outputs": [],
   "source": [
    "# cursor.execute(\n",
    "#     \"SELECT * FROM pa004.insurance LIMIT 5\"\n",
    "# )"
   ]
  },
  {
   "cell_type": "code",
   "execution_count": 55,
   "id": "688cbad2",
   "metadata": {
    "ExecuteTime": {
     "end_time": "2023-02-27T13:28:07.113921Z",
     "start_time": "2023-02-27T13:28:07.105862Z"
    },
    "hidden": true
   },
   "outputs": [],
   "source": [
    "# for row in cursor.fetchall():\n",
    "#     print(row)"
   ]
  },
  {
   "cell_type": "markdown",
   "id": "b2ff66a1",
   "metadata": {
    "ExecuteTime": {
     "end_time": "2023-02-27T13:26:00.797010Z",
     "start_time": "2023-02-27T13:26:00.762920Z"
    },
    "hidden": true
   },
   "source": [
    "### Getting tables as Pandas Dataframes"
   ]
  },
  {
   "cell_type": "code",
   "execution_count": 52,
   "id": "9850f35b",
   "metadata": {
    "ExecuteTime": {
     "end_time": "2023-02-27T13:27:51.672734Z",
     "start_time": "2023-02-27T13:27:51.660370Z"
    },
    "hidden": true
   },
   "outputs": [],
   "source": [
    "# df_users = pd.read_sql(\"SELECT * FROM pa004.users\", conn)\n",
    "# df_vehicle = pd.read_sql(\"SELECT * FROM pa004.vehicle\", conn)\n",
    "# df_insurance = pd.read_sql(\"SELECT * FROM pa004.insurance\", conn)"
   ]
  },
  {
   "cell_type": "code",
   "execution_count": 53,
   "id": "3b4fa728",
   "metadata": {
    "ExecuteTime": {
     "end_time": "2023-02-27T13:27:54.105868Z",
     "start_time": "2023-02-27T13:27:54.101445Z"
    },
    "hidden": true
   },
   "outputs": [],
   "source": [
    "# df_users.to_csv(\"./data/users.csv\")\n",
    "# df_vehicle.to_csv(\"./data/vehicle.csv\")\n",
    "# df_insurance.to_csv(\"./data/insurance.csv\")"
   ]
  },
  {
   "cell_type": "markdown",
   "id": "06892d6b",
   "metadata": {
    "heading_collapsed": true
   },
   "source": [
    "# 2.0 Data Loading"
   ]
  },
  {
   "cell_type": "code",
   "execution_count": 2,
   "id": "2dc7e8b2",
   "metadata": {
    "ExecuteTime": {
     "end_time": "2023-02-28T12:26:07.958079Z",
     "start_time": "2023-02-28T12:26:07.324734Z"
    },
    "hidden": true
   },
   "outputs": [],
   "source": [
    "df_users = pd.read_csv(\"../data/users.csv\")\n",
    "df_users.drop(\"Unnamed: 0\", axis=1, inplace=True)\n",
    "\n",
    "df_vehicle = pd.read_csv(\"../data/vehicle.csv\")\n",
    "df_vehicle.drop(\"Unnamed: 0\", axis=1, inplace=True)\n",
    "\n",
    "df_insurance = pd.read_csv(\"../data/insurance.csv\")\n",
    "df_insurance.drop(\"Unnamed: 0\", axis=1, inplace=True)\n",
    "\n",
    "df_raw = pd.merge(pd.merge(df_users, df_vehicle, on='id'), df_insurance, on='id')"
   ]
  },
  {
   "cell_type": "markdown",
   "id": "1b7fabb4",
   "metadata": {},
   "source": [
    "# 3.0 Data description and data cleaning"
   ]
  },
  {
   "cell_type": "code",
   "execution_count": 4,
   "id": "73a7209b",
   "metadata": {
    "ExecuteTime": {
     "end_time": "2023-02-28T12:26:40.555190Z",
     "start_time": "2023-02-28T12:26:40.460592Z"
    }
   },
   "outputs": [],
   "source": [
    "df1 = df_raw.copy()"
   ]
  },
  {
   "cell_type": "markdown",
   "id": "a960ce3a",
   "metadata": {},
   "source": [
    "## Data Dictionary"
   ]
  },
  {
   "cell_type": "markdown",
   "id": "449b1464",
   "metadata": {},
   "source": [
    "* <b> Id  </b> - Unique ID for the customer\n",
    "* <b> Gender </b>  - Gender of the customer\n",
    "* <b> Age </b> \t- Age of the customer\n",
    "* <b> Driving_License </b>  - 0 : Customer does not have DL, 1 : Customer already has DL\n",
    "* <b> Region_Code </b>  - Unique code for the region of the customer\n",
    "* <b> Previously_Insured </b>  - 1 : Customer already has Vehicle Insurance, 0 : Customer doesn't have Vehicle Insurance\n",
    "* <b> Vehicle_Age </b>  - Age of the Vehicle\n",
    "* <b> Vehicle_Damage </b>  - 1 : Customer got his/her vehicle damaged in the past. 0 : Customer didn't get his/her vehicle damaged in the past.\n",
    "* <b> Annual_Premium </b>  - The amount customer needs to pay as premium in the year\n",
    "* <b> Policy_Sales_Channel </b>  - Anonymized Code for the channel of outreaching to the customer ie. Different Agents, Over Mail, Over Phone, In Person, etc.\n",
    "* <b> Vintage </b>  - Number of Days, Customer has been associated with the company\n",
    "* <b> Response </b>  - 1 : Customer is interested, 0 : Customer is not interested"
   ]
  },
  {
   "cell_type": "markdown",
   "id": "c513969c",
   "metadata": {
    "heading_collapsed": true
   },
   "source": [
    "## 3.1 Data dimension"
   ]
  },
  {
   "cell_type": "code",
   "execution_count": 5,
   "id": "5bd33cc5",
   "metadata": {
    "ExecuteTime": {
     "end_time": "2023-02-28T12:26:41.930756Z",
     "start_time": "2023-02-28T12:26:41.917590Z"
    },
    "hidden": true
   },
   "outputs": [
    {
     "name": "stdout",
     "output_type": "stream",
     "text": [
      "Number of rows: 381109\n",
      "Number of columns: 12\n"
     ]
    }
   ],
   "source": [
    "shape = df1.shape\n",
    "print(f'Number of rows: {shape[0]}')\n",
    "print(f'Number of columns: {shape[1]}')"
   ]
  },
  {
   "cell_type": "markdown",
   "id": "e24c8b50",
   "metadata": {
    "heading_collapsed": true
   },
   "source": [
    "## 3.2 Data types"
   ]
  },
  {
   "cell_type": "code",
   "execution_count": 6,
   "id": "df09c0e7",
   "metadata": {
    "ExecuteTime": {
     "end_time": "2023-02-28T12:26:42.539183Z",
     "start_time": "2023-02-28T12:26:42.524534Z"
    },
    "hidden": true
   },
   "outputs": [
    {
     "data": {
      "text/plain": [
       "id                        int64\n",
       "gender                   object\n",
       "age                       int64\n",
       "region_code             float64\n",
       "policy_sales_channel    float64\n",
       "driving_license           int64\n",
       "vehicle_age              object\n",
       "vehicle_damage           object\n",
       "previously_insured        int64\n",
       "annual_premium          float64\n",
       "vintage                   int64\n",
       "response                  int64\n",
       "dtype: object"
      ]
     },
     "execution_count": 6,
     "metadata": {},
     "output_type": "execute_result"
    }
   ],
   "source": [
    "df1.dtypes"
   ]
  },
  {
   "cell_type": "markdown",
   "id": "bd86b774",
   "metadata": {
    "hidden": true
   },
   "source": [
    "* We don't need to make any datatype changes."
   ]
  },
  {
   "cell_type": "markdown",
   "id": "36abfe66",
   "metadata": {
    "heading_collapsed": true
   },
   "source": [
    "## 3.3 Missing data"
   ]
  },
  {
   "cell_type": "code",
   "execution_count": 7,
   "id": "2e95d7a6",
   "metadata": {
    "ExecuteTime": {
     "end_time": "2023-02-28T12:26:43.428413Z",
     "start_time": "2023-02-28T12:26:43.286114Z"
    },
    "hidden": true
   },
   "outputs": [
    {
     "data": {
      "text/plain": [
       "id                      0\n",
       "gender                  0\n",
       "age                     0\n",
       "region_code             0\n",
       "policy_sales_channel    0\n",
       "driving_license         0\n",
       "vehicle_age             0\n",
       "vehicle_damage          0\n",
       "previously_insured      0\n",
       "annual_premium          0\n",
       "vintage                 0\n",
       "response                0\n",
       "dtype: int64"
      ]
     },
     "execution_count": 7,
     "metadata": {},
     "output_type": "execute_result"
    }
   ],
   "source": [
    "df1.isnull().sum()"
   ]
  },
  {
   "cell_type": "markdown",
   "id": "cf4e8c7c",
   "metadata": {
    "hidden": true
   },
   "source": [
    "* No missing data."
   ]
  },
  {
   "cell_type": "markdown",
   "id": "f80eebcd",
   "metadata": {},
   "source": [
    "## 3.4 Descriptive statistics"
   ]
  },
  {
   "cell_type": "markdown",
   "id": "f46acfc5",
   "metadata": {
    "heading_collapsed": true
   },
   "source": [
    "### 3.4.1 Numeric and categoric attributes"
   ]
  },
  {
   "cell_type": "code",
   "execution_count": 22,
   "id": "31c8387a",
   "metadata": {
    "ExecuteTime": {
     "end_time": "2023-02-28T12:43:30.845777Z",
     "start_time": "2023-02-28T12:43:30.838117Z"
    },
    "hidden": true
   },
   "outputs": [],
   "source": [
    "cat_columns = ['gender', 'region_code', 'policy_sales_channel', 'driving_license', 'vehicle_age', \n",
    "               'vehicle_damage', 'previously_insured', 'response']\n",
    "\n",
    "num_columns = ['age', 'annual_premium', 'vintage']"
   ]
  },
  {
   "cell_type": "code",
   "execution_count": 23,
   "id": "ca728024",
   "metadata": {
    "ExecuteTime": {
     "end_time": "2023-02-28T12:43:51.692503Z",
     "start_time": "2023-02-28T12:43:51.577492Z"
    },
    "hidden": true
   },
   "outputs": [],
   "source": [
    "cat_attributes = df1[cat_columns]\n",
    "num_attributes = df1[num_columns]"
   ]
  },
  {
   "cell_type": "markdown",
   "id": "2587089a",
   "metadata": {
    "heading_collapsed": true
   },
   "source": [
    "### 3.4.2 Numeric attributes"
   ]
  },
  {
   "cell_type": "markdown",
   "id": "18be34f6",
   "metadata": {
    "heading_collapsed": true,
    "hidden": true
   },
   "source": [
    "#### Central Tendency"
   ]
  },
  {
   "cell_type": "code",
   "execution_count": 36,
   "id": "b7b1b598",
   "metadata": {
    "ExecuteTime": {
     "end_time": "2023-02-28T12:48:32.581817Z",
     "start_time": "2023-02-28T12:48:32.506100Z"
    },
    "hidden": true
   },
   "outputs": [],
   "source": [
    "central_tendency = num_attributes.describe().loc[['mean', '50%']].T\n",
    "central_tendency.rename(columns={'50%':'median'}, inplace=True)"
   ]
  },
  {
   "cell_type": "markdown",
   "id": "2001a314",
   "metadata": {
    "heading_collapsed": true,
    "hidden": true
   },
   "source": [
    "#### Dispersion measures"
   ]
  },
  {
   "cell_type": "code",
   "execution_count": 43,
   "id": "64403396",
   "metadata": {
    "ExecuteTime": {
     "end_time": "2023-02-28T13:01:18.336332Z",
     "start_time": "2023-02-28T13:01:18.262331Z"
    },
    "hidden": true
   },
   "outputs": [],
   "source": [
    "dispersion = num_attributes.describe().loc[['min', 'max', 'std']].T\n",
    "dispersion['range'] = dispersion.apply(lambda x: x['max'] - x['min'], axis=1)"
   ]
  },
  {
   "cell_type": "markdown",
   "id": "429389c4",
   "metadata": {
    "heading_collapsed": true,
    "hidden": true
   },
   "source": [
    "#### Quantiles"
   ]
  },
  {
   "cell_type": "code",
   "execution_count": 44,
   "id": "312027f1",
   "metadata": {
    "ExecuteTime": {
     "end_time": "2023-02-28T13:01:53.145239Z",
     "start_time": "2023-02-28T13:01:53.070762Z"
    },
    "hidden": true
   },
   "outputs": [],
   "source": [
    "quantiles = num_attributes.describe().loc[['25%', '75%']].T"
   ]
  },
  {
   "cell_type": "markdown",
   "id": "e2e6aacc",
   "metadata": {
    "heading_collapsed": true,
    "hidden": true
   },
   "source": [
    "#### Skewness & Kurtosis"
   ]
  },
  {
   "cell_type": "code",
   "execution_count": 50,
   "id": "b3214701",
   "metadata": {
    "ExecuteTime": {
     "end_time": "2023-02-28T13:04:34.743431Z",
     "start_time": "2023-02-28T13:04:34.677623Z"
    },
    "hidden": true
   },
   "outputs": [],
   "source": [
    "skewness_kurtosis = pd.DataFrame()\n",
    "skewness_kurtosis['skewness'] = num_attributes.apply(lambda x: x.skew())\n",
    "skewness_kurtosis['kurtosis'] = num_attributes.apply(lambda x: x.kurtosis())"
   ]
  },
  {
   "cell_type": "markdown",
   "id": "707c1141",
   "metadata": {
    "hidden": true
   },
   "source": [
    "#### All metrics"
   ]
  },
  {
   "cell_type": "code",
   "execution_count": 91,
   "id": "ec9d59df",
   "metadata": {
    "ExecuteTime": {
     "end_time": "2023-02-28T13:24:39.301467Z",
     "start_time": "2023-02-28T13:24:39.288634Z"
    },
    "hidden": true,
    "hide_input": true
   },
   "outputs": [],
   "source": [
    "numeric_metrics = pd.concat([central_tendency, dispersion, quantiles, skewness_kurtosis], axis=1)\n",
    "numeric_metrics.reset_index(inplace=True)\n",
    "numeric_metrics.rename(columns={'index':'attributes'}, inplace=True)\n",
    "numeric_metrics = numeric_metrics[['attributes', 'mean', '25%', 'median', '75%', 'min', 'max', 'range', 'std', 'skewness', 'kurtosis']]"
   ]
  },
  {
   "cell_type": "code",
   "execution_count": 92,
   "id": "7c3518c1",
   "metadata": {
    "ExecuteTime": {
     "end_time": "2023-02-28T13:24:39.800696Z",
     "start_time": "2023-02-28T13:24:39.769940Z"
    },
    "hidden": true
   },
   "outputs": [
    {
     "data": {
      "text/html": [
       "<div>\n",
       "<style scoped>\n",
       "    .dataframe tbody tr th:only-of-type {\n",
       "        vertical-align: middle;\n",
       "    }\n",
       "\n",
       "    .dataframe tbody tr th {\n",
       "        vertical-align: top;\n",
       "    }\n",
       "\n",
       "    .dataframe thead th {\n",
       "        text-align: right;\n",
       "    }\n",
       "</style>\n",
       "<table border=\"1\" class=\"dataframe\">\n",
       "  <thead>\n",
       "    <tr style=\"text-align: right;\">\n",
       "      <th></th>\n",
       "      <th>attributes</th>\n",
       "      <th>mean</th>\n",
       "      <th>25%</th>\n",
       "      <th>median</th>\n",
       "      <th>75%</th>\n",
       "      <th>min</th>\n",
       "      <th>max</th>\n",
       "      <th>range</th>\n",
       "      <th>std</th>\n",
       "      <th>skewness</th>\n",
       "      <th>kurtosis</th>\n",
       "    </tr>\n",
       "  </thead>\n",
       "  <tbody>\n",
       "    <tr>\n",
       "      <th>0</th>\n",
       "      <td>age</td>\n",
       "      <td>38.822584</td>\n",
       "      <td>25.0</td>\n",
       "      <td>36.0</td>\n",
       "      <td>49.0</td>\n",
       "      <td>20.0</td>\n",
       "      <td>85.0</td>\n",
       "      <td>65.0</td>\n",
       "      <td>15.511611</td>\n",
       "      <td>0.672539</td>\n",
       "      <td>-0.565655</td>\n",
       "    </tr>\n",
       "    <tr>\n",
       "      <th>1</th>\n",
       "      <td>annual_premium</td>\n",
       "      <td>30564.389581</td>\n",
       "      <td>24405.0</td>\n",
       "      <td>31669.0</td>\n",
       "      <td>39400.0</td>\n",
       "      <td>2630.0</td>\n",
       "      <td>540165.0</td>\n",
       "      <td>537535.0</td>\n",
       "      <td>17213.155057</td>\n",
       "      <td>1.766087</td>\n",
       "      <td>34.004569</td>\n",
       "    </tr>\n",
       "    <tr>\n",
       "      <th>2</th>\n",
       "      <td>vintage</td>\n",
       "      <td>154.347397</td>\n",
       "      <td>82.0</td>\n",
       "      <td>154.0</td>\n",
       "      <td>227.0</td>\n",
       "      <td>10.0</td>\n",
       "      <td>299.0</td>\n",
       "      <td>289.0</td>\n",
       "      <td>83.671304</td>\n",
       "      <td>0.003030</td>\n",
       "      <td>-1.200688</td>\n",
       "    </tr>\n",
       "  </tbody>\n",
       "</table>\n",
       "</div>"
      ],
      "text/plain": [
       "       attributes          mean      25%   median      75%     min       max  \\\n",
       "0             age     38.822584     25.0     36.0     49.0    20.0      85.0   \n",
       "1  annual_premium  30564.389581  24405.0  31669.0  39400.0  2630.0  540165.0   \n",
       "2         vintage    154.347397     82.0    154.0    227.0    10.0     299.0   \n",
       "\n",
       "      range           std  skewness   kurtosis  \n",
       "0      65.0     15.511611  0.672539  -0.565655  \n",
       "1  537535.0  17213.155057  1.766087  34.004569  \n",
       "2     289.0     83.671304  0.003030  -1.200688  "
      ]
     },
     "execution_count": 92,
     "metadata": {},
     "output_type": "execute_result"
    }
   ],
   "source": [
    "numeric_metrics"
   ]
  },
  {
   "cell_type": "markdown",
   "id": "f2d3923e",
   "metadata": {
    "hidden": true
   },
   "source": [
    "* annual_premium - o valor máximo é 540.000, enquanto o percentil 75 é 39.400, exibindo uma grande discrepância. Possivelmente essa variável possui outliers, que serão investigados posteriormente.\n",
    "\n",
    "* annual_premium - um kurtosis de 34 indica que essa distribuição é extremamente empinada em relação a distribuição normal. Isso significa que os valores se concentram muito perto da média e que as caudas são pesadas,  o que significa que há uma alta probabilidade de valores extremos ou outliers."
   ]
  },
  {
   "cell_type": "markdown",
   "id": "71f27156",
   "metadata": {},
   "source": [
    "### 3.4.3 Categoric attributes"
   ]
  },
  {
   "cell_type": "code",
   "execution_count": 94,
   "id": "27b5e55a",
   "metadata": {
    "ExecuteTime": {
     "end_time": "2023-02-28T13:53:37.531517Z",
     "start_time": "2023-02-28T13:53:37.427866Z"
    }
   },
   "outputs": [
    {
     "data": {
      "text/plain": [
       "gender                    2\n",
       "region_code              53\n",
       "policy_sales_channel    155\n",
       "driving_license           2\n",
       "vehicle_age               3\n",
       "vehicle_damage            2\n",
       "previously_insured        2\n",
       "response                  2\n",
       "dtype: int64"
      ]
     },
     "execution_count": 94,
     "metadata": {},
     "output_type": "execute_result"
    }
   ],
   "source": [
    "#quantas categoricas diferentes cada feature tem\n",
    "cat_attributes.apply(lambda x: x.nunique())"
   ]
  },
  {
   "cell_type": "code",
   "execution_count": 98,
   "id": "2a5ef63b",
   "metadata": {
    "ExecuteTime": {
     "end_time": "2023-02-28T13:54:40.386475Z",
     "start_time": "2023-02-28T13:54:40.376289Z"
    }
   },
   "outputs": [
    {
     "data": {
      "text/plain": [
       "['gender',\n",
       " 'region_code',\n",
       " 'policy_sales_channel',\n",
       " 'driving_license',\n",
       " 'vehicle_age',\n",
       " 'vehicle_damage',\n",
       " 'previously_insured',\n",
       " 'response']"
      ]
     },
     "execution_count": 98,
     "metadata": {},
     "output_type": "execute_result"
    }
   ],
   "source": [
    "cat_columns"
   ]
  },
  {
   "cell_type": "code",
   "execution_count": 113,
   "id": "83d9b733",
   "metadata": {
    "ExecuteTime": {
     "end_time": "2023-02-28T14:01:10.346758Z",
     "start_time": "2023-02-28T14:01:08.009057Z"
    },
    "scrolled": false
   },
   "outputs": [
    {
     "data": {
      "image/png": "[encoded data removed]",
      "text/plain": [
       "<Figure size 500x300 with 1 Axes>"
      ]
     },
     "metadata": {},
     "output_type": "display_data"
    },
    {
     "data": {
      "image/png": "[encoded data removed]",
      "text/plain": [
       "<Figure size 500x300 with 1 Axes>"
      ]
     },
     "metadata": {},
     "output_type": "display_data"
    },
    {
     "data": {
      "image/png": "[encoded data removed]",
      "text/plain": [
       "<Figure size 500x300 with 1 Axes>"
      ]
     },
     "metadata": {},
     "output_type": "display_data"
    },
    {
     "data": {
      "image/png": "[encoded data removed]",
      "text/plain": [
       "<Figure size 500x300 with 1 Axes>"
      ]
     },
     "metadata": {},
     "output_type": "display_data"
    },
    {
     "data": {
      "image/png": "[encoded data removed]",
      "text/plain": [
       "<Figure size 500x300 with 1 Axes>"
      ]
     },
     "metadata": {},
     "output_type": "display_data"
    },
    {
     "data": {
      "image/png": "[encoded data removed]",
      "text/plain": [
       "<Figure size 500x300 with 1 Axes>"
      ]
     },
     "metadata": {},
     "output_type": "display_data"
    },
    {
     "data": {
      "image/png": "[encoded data removed]",
      "text/plain": [
       "<Figure size 500x300 with 1 Axes>"
      ]
     },
     "metadata": {},
     "output_type": "display_data"
    },
    {
     "data": {
      "image/png": "[encoded data removed]",
      "text/plain": [
       "<Figure size 500x300 with 1 Axes>"
      ]
     },
     "metadata": {},
     "output_type": "display_data"
    }
   ],
   "source": [
    "#quanto tem de cada categoria\n",
    "for column in cat_columns:\n",
    "    plt.figure(figsize=(5, 3))\n",
    "    sns.countplot(data=df1, x=column)\n",
    "    plt.show()"
   ]
  },
  {
   "cell_type": "code",
   "execution_count": null,
   "id": "a8600496",
   "metadata": {},
   "outputs": [],
   "source": []
  }
 ],
 "metadata": {
  "kernelspec": {
   "display_name": "Python 3 (ipykernel)",
   "language": "python",
   "name": "python3"
  },
  "language_info": {
   "codemirror_mode": {
    "name": "ipython",
    "version": 3
   },
   "file_extension": ".py",
   "mimetype": "text/x-python",
   "name": "python",
   "nbconvert_exporter": "python",
   "pygments_lexer": "ipython3",
   "version": "3.9.15"
  }
 },
 "nbformat": 4,
 "nbformat_minor": 5
}
