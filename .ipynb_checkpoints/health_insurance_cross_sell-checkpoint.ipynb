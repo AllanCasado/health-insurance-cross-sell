{
 "cells": [
  {
   "cell_type": "markdown",
   "id": "c6e69331",
   "metadata": {
    "heading_collapsed": true
   },
   "source": [
    "# 0.0 Imports"
   ]
  },
  {
   "cell_type": "code",
   "execution_count": 43,
   "id": "3c4e21c4",
   "metadata": {
    "ExecuteTime": {
     "end_time": "2023-02-27T13:11:54.587629Z",
     "start_time": "2023-02-27T13:11:53.188710Z"
    },
    "hidden": true
   },
   "outputs": [],
   "source": [
    "import psycopg2\n",
    "import pandas as pd"
   ]
  },
  {
   "cell_type": "markdown",
   "id": "8c26e2aa",
   "metadata": {
    "heading_collapsed": true
   },
   "source": [
    "# 1.0 Data Collection"
   ]
  },
  {
   "cell_type": "markdown",
   "id": "0fc36d97",
   "metadata": {
    "heading_collapsed": true,
    "hidden": true
   },
   "source": [
    "### Database connection"
   ]
  },
  {
   "cell_type": "code",
   "execution_count": 27,
   "id": "64b53afb",
   "metadata": {
    "ExecuteTime": {
     "end_time": "2023-02-27T13:05:49.880504Z",
     "start_time": "2023-02-27T13:05:49.058116Z"
    },
    "hidden": true
   },
   "outputs": [],
   "source": [
    "# host = \"comunidade-ds-postgres.c50pcakiuwi3.us-east-1.rds.amazonaws.com\"\n",
    "# port = 5432\n",
    "# database = \"comunidadedsdb\"\n",
    "# username = \"member\"\n",
    "# password = \"cdspa\"\n",
    "\n",
    "# conn = psycopg2.connect(\n",
    "#             host=host,\n",
    "#             port=port,\n",
    "#             database=database,\n",
    "#             user=username,\n",
    "#             password=password\n",
    "#         )\n",
    "\n",
    "# cursor = conn.cursor()"
   ]
  },
  {
   "cell_type": "markdown",
   "id": "c8f123e1",
   "metadata": {
    "heading_collapsed": true,
    "hidden": true
   },
   "source": [
    "### Getting existing tables from 'pa004' schema"
   ]
  },
  {
   "cell_type": "code",
   "execution_count": 35,
   "id": "3bdd82ff",
   "metadata": {
    "ExecuteTime": {
     "end_time": "2023-02-27T13:07:34.669588Z",
     "start_time": "2023-02-27T13:07:34.534522Z"
    },
    "code_folding": [],
    "hidden": true
   },
   "outputs": [
    {
     "name": "stdout",
     "output_type": "stream",
     "text": [
      "users\n",
      "vehicle\n",
      "insurance\n"
     ]
    }
   ],
   "source": [
    "# cursor.execute(\n",
    "#     \"SELECT tablename FROM pg_catalog.pg_tables WHERE schemaname NOT IN ('pg_catalog', 'information_schema', 'public');\"\n",
    "# )\n",
    "\n",
    "# rows = cursor.fetchall()\n",
    "\n",
    "# for row in rows:\n",
    "#     print(row[0])"
   ]
  },
  {
   "cell_type": "markdown",
   "id": "9c847212",
   "metadata": {
    "heading_collapsed": true,
    "hidden": true
   },
   "source": [
    "### Getting all data from 'users' table"
   ]
  },
  {
   "cell_type": "code",
   "execution_count": 54,
   "id": "486c1d70",
   "metadata": {
    "ExecuteTime": {
     "end_time": "2023-02-27T13:28:03.906142Z",
     "start_time": "2023-02-27T13:28:03.897774Z"
    },
    "hidden": true
   },
   "outputs": [],
   "source": [
    "# cursor.execute(\n",
    "#     \"SELECT * FROM pa004.insurance LIMIT 5\"\n",
    "# )"
   ]
  },
  {
   "cell_type": "code",
   "execution_count": 55,
   "id": "688cbad2",
   "metadata": {
    "ExecuteTime": {
     "end_time": "2023-02-27T13:28:07.113921Z",
     "start_time": "2023-02-27T13:28:07.105862Z"
    },
    "hidden": true
   },
   "outputs": [],
   "source": [
    "# for row in cursor.fetchall():\n",
    "#     print(row)"
   ]
  },
  {
   "cell_type": "markdown",
   "id": "b2ff66a1",
   "metadata": {
    "ExecuteTime": {
     "end_time": "2023-02-27T13:26:00.797010Z",
     "start_time": "2023-02-27T13:26:00.762920Z"
    },
    "hidden": true
   },
   "source": [
    "### Getting tables as Pandas Dataframes"
   ]
  },
  {
   "cell_type": "code",
   "execution_count": 52,
   "id": "9850f35b",
   "metadata": {
    "ExecuteTime": {
     "end_time": "2023-02-27T13:27:51.672734Z",
     "start_time": "2023-02-27T13:27:51.660370Z"
    },
    "hidden": true
   },
   "outputs": [],
   "source": [
    "# df_users = pd.read_sql(\"SELECT * FROM pa004.users\", conn)\n",
    "# df_vehicle = pd.read_sql(\"SELECT * FROM pa004.vehicle\", conn)\n",
    "# df_insurance = pd.read_sql(\"SELECT * FROM pa004.insurance\", conn)"
   ]
  },
  {
   "cell_type": "code",
   "execution_count": 53,
   "id": "3b4fa728",
   "metadata": {
    "ExecuteTime": {
     "end_time": "2023-02-27T13:27:54.105868Z",
     "start_time": "2023-02-27T13:27:54.101445Z"
    },
    "hidden": true
   },
   "outputs": [],
   "source": [
    "# df_users.to_csv(\"./data/users.csv\")\n",
    "# df_vehicle.to_csv(\"./data/vehicle.csv\")\n",
    "# df_insurance.to_csv(\"./data/insurance.csv\")"
   ]
  },
  {
   "cell_type": "markdown",
   "id": "06892d6b",
   "metadata": {
    "heading_collapsed": true
   },
   "source": [
    "# 2.0 Data Loading"
   ]
  },
  {
   "cell_type": "code",
   "execution_count": 73,
   "id": "2dc7e8b2",
   "metadata": {
    "ExecuteTime": {
     "end_time": "2023-02-27T13:34:28.656782Z",
     "start_time": "2023-02-27T13:34:27.855224Z"
    },
    "hidden": true
   },
   "outputs": [],
   "source": [
    "df_users = pd.read_csv(\"./data/users.csv\")\n",
    "df_users.drop(\"Unnamed: 0\", axis=1, inplace=True)\n",
    "\n",
    "df_vehicle = pd.read_csv(\"./data/vehicle.csv\")\n",
    "df_vehicle.drop(\"Unnamed: 0\", axis=1, inplace=True)\n",
    "\n",
    "df_insurance = pd.read_csv(\"./data/insurance.csv\")\n",
    "df_insurance.drop(\"Unnamed: 0\", axis=1, inplace=True)"
   ]
  },
  {
   "cell_type": "markdown",
   "id": "1b7fabb4",
   "metadata": {
    "heading_collapsed": true
   },
   "source": [
    "# 3.0 Description and data cleaning"
   ]
  },
  {
   "cell_type": "markdown",
   "id": "a960ce3a",
   "metadata": {
    "hidden": true
   },
   "source": [
    "## Data Dictionary"
   ]
  },
  {
   "cell_type": "markdown",
   "id": "449b1464",
   "metadata": {
    "hidden": true
   },
   "source": [
    "* <b> Id  </b> - Unique ID for the customer\n",
    "* <b> Gender </b>  - Gender of the customer\n",
    "* <b> Age </b> \t- Age of the customer\n",
    "* <b> Driving_License </b>  - 0 : Customer does not have DL, 1 : Customer already has DL\n",
    "* <b> Region_Code </b>  - Unique code for the region of the customer\n",
    "* <b> Previously_Insured </b>  - 1 : Customer already has Vehicle Insurance, 0 : Customer doesn't have Vehicle Insurance\n",
    "* <b> Vehicle_Age </b>  - Age of the Vehicle\n",
    "* <b> Vehicle_Damage </b>  - 1 : Customer got his/her vehicle damaged in the past. 0 : Customer didn't get his/her vehicle damaged in the past.\n",
    "* <b> Annual_Premium </b>  - The amount customer needs to pay as premium in the year\n",
    "* <b> Policy_Sales_Channel </b>  - Anonymized Code for the channel of outreaching to the customer ie. Different Agents, Over Mail, Over Phone, In Person, etc.\n",
    "* <b> Vintage </b>  - Number of Days, Customer has been associated with the company\n",
    "* <b> Response </b>  - 1 : Customer is interested, 0 : Customer is not interested"
   ]
  },
  {
   "cell_type": "code",
   "execution_count": null,
   "id": "73a7209b",
   "metadata": {
    "hidden": true
   },
   "outputs": [],
   "source": []
  }
 ],
 "metadata": {
  "kernelspec": {
   "display_name": "Python 3 (ipykernel)",
   "language": "python",
   "name": "python3"
  },
  "language_info": {
   "codemirror_mode": {
    "name": "ipython",
    "version": 3
   },
   "file_extension": ".py",
   "mimetype": "text/x-python",
   "name": "python",
   "nbconvert_exporter": "python",
   "pygments_lexer": "ipython3",
   "version": "3.9.15"
  }
 },
 "nbformat": 4,
 "nbformat_minor": 5
}
