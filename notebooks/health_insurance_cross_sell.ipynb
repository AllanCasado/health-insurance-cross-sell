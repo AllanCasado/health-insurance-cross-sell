{
 "cells": [
  {
   "cell_type": "markdown",
   "id": "1bc276cb",
   "metadata": {},
   "source": [
    "# 0.0 Imports"
   ]
  },
  {
   "cell_type": "code",
   "execution_count": 43,
   "id": "f8264c41",
   "metadata": {
    "ExecuteTime": {
     "end_time": "2023-02-27T13:11:54.587629Z",
     "start_time": "2023-02-27T13:11:53.188710Z"
    }
   },
   "outputs": [],
   "source": [
    "import psycopg2\n",
    "import pandas as pd"
   ]
  },
  {
   "cell_type": "markdown",
   "id": "c80dc77d",
   "metadata": {},
   "source": [
    "# 1.0 Data Collection"
   ]
  },
  {
   "cell_type": "markdown",
   "id": "44cb1476",
   "metadata": {},
   "source": [
    "### Database connection"
   ]
  },
  {
   "cell_type": "code",
   "execution_count": 27,
   "id": "43ab6ac0",
   "metadata": {
    "ExecuteTime": {
     "end_time": "2023-02-27T13:05:49.880504Z",
     "start_time": "2023-02-27T13:05:49.058116Z"
    }
   },
   "outputs": [],
   "source": [
    "host = \"comunidade-ds-postgres.c50pcakiuwi3.us-east-1.rds.amazonaws.com\"\n",
    "port = 5432\n",
    "database = \"comunidadedsdb\"\n",
    "username = \"member\"\n",
    "password = \"cdspa\"\n",
    "\n",
    "conn = psycopg2.connect(\n",
    "            host=host,\n",
    "            port=port,\n",
    "            database=database,\n",
    "            user=username,\n",
    "            password=password\n",
    "        )\n",
    "\n",
    "cursor = conn.cursor()"
   ]
  },
  {
   "cell_type": "markdown",
   "id": "4ac91fd9",
   "metadata": {},
   "source": [
    "### Getting existing tables from 'pa004' schema"
   ]
  },
  {
   "cell_type": "code",
   "execution_count": 35,
   "id": "13e91216",
   "metadata": {
    "ExecuteTime": {
     "end_time": "2023-02-27T13:07:34.669588Z",
     "start_time": "2023-02-27T13:07:34.534522Z"
    },
    "code_folding": []
   },
   "outputs": [
    {
     "name": "stdout",
     "output_type": "stream",
     "text": [
      "users\n",
      "vehicle\n",
      "insurance\n"
     ]
    }
   ],
   "source": [
    "# cursor.execute(\n",
    "#     \"SELECT tablename FROM pg_catalog.pg_tables WHERE schemaname NOT IN ('pg_catalog', 'information_schema', 'public');\"\n",
    "# )\n",
    "\n",
    "# rows = cursor.fetchall()\n",
    "\n",
    "# for row in rows:\n",
    "#     print(row[0])"
   ]
  },
  {
   "cell_type": "code",
   "execution_count": 36,
   "id": "a558d55e",
   "metadata": {
    "ExecuteTime": {
     "end_time": "2023-02-27T13:07:44.929249Z",
     "start_time": "2023-02-27T13:07:44.920523Z"
    }
   },
   "outputs": [],
   "source": [
    "table_names = [\"users\", \"vehicle\", \"insurance\"]"
   ]
  },
  {
   "cell_type": "markdown",
   "id": "465af1bd",
   "metadata": {},
   "source": [
    "### Getting all data from 'users' table"
   ]
  },
  {
   "cell_type": "code",
   "execution_count": 41,
   "id": "f23489a9",
   "metadata": {
    "ExecuteTime": {
     "end_time": "2023-02-27T13:10:46.129489Z",
     "start_time": "2023-02-27T13:10:45.982328Z"
    }
   },
   "outputs": [],
   "source": [
    "cursor.execute(\n",
    "    \"SELECT * FROM pa004.insurance LIMIT 5\"\n",
    ")"
   ]
  },
  {
   "cell_type": "code",
   "execution_count": 42,
   "id": "f729795e",
   "metadata": {
    "ExecuteTime": {
     "end_time": "2023-02-27T13:10:46.258570Z",
     "start_time": "2023-02-27T13:10:46.234414Z"
    }
   },
   "outputs": [
    {
     "name": "stdout",
     "output_type": "stream",
     "text": [
      "(1, 0, 40454.0, 217, 1)\n",
      "(2, 0, 33536.0, 183, 0)\n",
      "(3, 0, 38294.0, 27, 1)\n",
      "(4, 1, 28619.0, 203, 0)\n",
      "(5, 1, 27496.0, 39, 0)\n"
     ]
    }
   ],
   "source": [
    "for row in cursor.fetchall():\n",
    "    print(row)"
   ]
  },
  {
   "cell_type": "code",
   "execution_count": 44,
   "id": "0bb59990",
   "metadata": {
    "ExecuteTime": {
     "end_time": "2023-02-27T13:13:59.773209Z",
     "start_time": "2023-02-27T13:13:46.412862Z"
    }
   },
   "outputs": [
    {
     "name": "stderr",
     "output_type": "stream",
     "text": [
      "C:\\Users\\allan\\AppData\\Local\\Temp\\ipykernel_1244\\2509079503.py:1: UserWarning: pandas only supports SQLAlchemy connectable (engine/connection) or database string URI or sqlite3 DBAPI2 connection. Other DBAPI2 objects are not tested. Please consider using SQLAlchemy.\n",
      "  df_users = pd.read_sql(\"SELECT * FROM pa004.users\", conn)\n",
      "C:\\Users\\allan\\AppData\\Local\\Temp\\ipykernel_1244\\2509079503.py:2: UserWarning: pandas only supports SQLAlchemy connectable (engine/connection) or database string URI or sqlite3 DBAPI2 connection. Other DBAPI2 objects are not tested. Please consider using SQLAlchemy.\n",
      "  df_vehicle = pd.read_sql(\"SELECT * FROM pa004.vehicle\", conn)\n",
      "C:\\Users\\allan\\AppData\\Local\\Temp\\ipykernel_1244\\2509079503.py:3: UserWarning: pandas only supports SQLAlchemy connectable (engine/connection) or database string URI or sqlite3 DBAPI2 connection. Other DBAPI2 objects are not tested. Please consider using SQLAlchemy.\n",
      "  df_insurance = pd.read_sql(\"SELECT * FROM pa004.insurance\", conn)\n"
     ]
    }
   ],
   "source": [
    "df_users = pd.read_sql(\"SELECT * FROM pa004.users\", conn)\n",
    "df_vehicle = pd.read_sql(\"SELECT * FROM pa004.vehicle\", conn)\n",
    "df_insurance = pd.read_sql(\"SELECT * FROM pa004.insurance\", conn)"
   ]
  },
  {
   "cell_type": "code",
   "execution_count": 45,
   "id": "069eb9d5",
   "metadata": {
    "ExecuteTime": {
     "end_time": "2023-02-27T13:14:04.132644Z",
     "start_time": "2023-02-27T13:14:04.092158Z"
    }
   },
   "outputs": [
    {
     "data": {
      "text/html": [
       "<div>\n",
       "<style scoped>\n",
       "    .dataframe tbody tr th:only-of-type {\n",
       "        vertical-align: middle;\n",
       "    }\n",
       "\n",
       "    .dataframe tbody tr th {\n",
       "        vertical-align: top;\n",
       "    }\n",
       "\n",
       "    .dataframe thead th {\n",
       "        text-align: right;\n",
       "    }\n",
       "</style>\n",
       "<table border=\"1\" class=\"dataframe\">\n",
       "  <thead>\n",
       "    <tr style=\"text-align: right;\">\n",
       "      <th></th>\n",
       "      <th>id</th>\n",
       "      <th>gender</th>\n",
       "      <th>age</th>\n",
       "      <th>region_code</th>\n",
       "      <th>policy_sales_channel</th>\n",
       "    </tr>\n",
       "  </thead>\n",
       "  <tbody>\n",
       "    <tr>\n",
       "      <th>0</th>\n",
       "      <td>1</td>\n",
       "      <td>Male</td>\n",
       "      <td>44</td>\n",
       "      <td>28.0</td>\n",
       "      <td>26.0</td>\n",
       "    </tr>\n",
       "    <tr>\n",
       "      <th>1</th>\n",
       "      <td>2</td>\n",
       "      <td>Male</td>\n",
       "      <td>76</td>\n",
       "      <td>3.0</td>\n",
       "      <td>26.0</td>\n",
       "    </tr>\n",
       "    <tr>\n",
       "      <th>2</th>\n",
       "      <td>3</td>\n",
       "      <td>Male</td>\n",
       "      <td>47</td>\n",
       "      <td>28.0</td>\n",
       "      <td>26.0</td>\n",
       "    </tr>\n",
       "    <tr>\n",
       "      <th>3</th>\n",
       "      <td>4</td>\n",
       "      <td>Male</td>\n",
       "      <td>21</td>\n",
       "      <td>11.0</td>\n",
       "      <td>152.0</td>\n",
       "    </tr>\n",
       "    <tr>\n",
       "      <th>4</th>\n",
       "      <td>5</td>\n",
       "      <td>Female</td>\n",
       "      <td>29</td>\n",
       "      <td>41.0</td>\n",
       "      <td>152.0</td>\n",
       "    </tr>\n",
       "  </tbody>\n",
       "</table>\n",
       "</div>"
      ],
      "text/plain": [
       "   id  gender  age  region_code  policy_sales_channel\n",
       "0   1    Male   44         28.0                  26.0\n",
       "1   2    Male   76          3.0                  26.0\n",
       "2   3    Male   47         28.0                  26.0\n",
       "3   4    Male   21         11.0                 152.0\n",
       "4   5  Female   29         41.0                 152.0"
      ]
     },
     "execution_count": 45,
     "metadata": {},
     "output_type": "execute_result"
    }
   ],
   "source": [
    "df_users.head()"
   ]
  },
  {
   "cell_type": "code",
   "execution_count": 46,
   "id": "6dc22107",
   "metadata": {
    "ExecuteTime": {
     "end_time": "2023-02-27T13:14:11.103598Z",
     "start_time": "2023-02-27T13:14:11.091516Z"
    }
   },
   "outputs": [
    {
     "data": {
      "text/html": [
       "<div>\n",
       "<style scoped>\n",
       "    .dataframe tbody tr th:only-of-type {\n",
       "        vertical-align: middle;\n",
       "    }\n",
       "\n",
       "    .dataframe tbody tr th {\n",
       "        vertical-align: top;\n",
       "    }\n",
       "\n",
       "    .dataframe thead th {\n",
       "        text-align: right;\n",
       "    }\n",
       "</style>\n",
       "<table border=\"1\" class=\"dataframe\">\n",
       "  <thead>\n",
       "    <tr style=\"text-align: right;\">\n",
       "      <th></th>\n",
       "      <th>id</th>\n",
       "      <th>driving_license</th>\n",
       "      <th>vehicle_age</th>\n",
       "      <th>vehicle_damage</th>\n",
       "    </tr>\n",
       "  </thead>\n",
       "  <tbody>\n",
       "    <tr>\n",
       "      <th>0</th>\n",
       "      <td>1</td>\n",
       "      <td>1</td>\n",
       "      <td>&gt; 2 Years</td>\n",
       "      <td>Yes</td>\n",
       "    </tr>\n",
       "    <tr>\n",
       "      <th>1</th>\n",
       "      <td>2</td>\n",
       "      <td>1</td>\n",
       "      <td>1-2 Year</td>\n",
       "      <td>No</td>\n",
       "    </tr>\n",
       "    <tr>\n",
       "      <th>2</th>\n",
       "      <td>3</td>\n",
       "      <td>1</td>\n",
       "      <td>&gt; 2 Years</td>\n",
       "      <td>Yes</td>\n",
       "    </tr>\n",
       "    <tr>\n",
       "      <th>3</th>\n",
       "      <td>4</td>\n",
       "      <td>1</td>\n",
       "      <td>&lt; 1 Year</td>\n",
       "      <td>No</td>\n",
       "    </tr>\n",
       "    <tr>\n",
       "      <th>4</th>\n",
       "      <td>5</td>\n",
       "      <td>1</td>\n",
       "      <td>&lt; 1 Year</td>\n",
       "      <td>No</td>\n",
       "    </tr>\n",
       "  </tbody>\n",
       "</table>\n",
       "</div>"
      ],
      "text/plain": [
       "   id  driving_license vehicle_age vehicle_damage\n",
       "0   1                1   > 2 Years            Yes\n",
       "1   2                1    1-2 Year             No\n",
       "2   3                1   > 2 Years            Yes\n",
       "3   4                1    < 1 Year             No\n",
       "4   5                1    < 1 Year             No"
      ]
     },
     "execution_count": 46,
     "metadata": {},
     "output_type": "execute_result"
    }
   ],
   "source": [
    "df_vehicle.head()"
   ]
  },
  {
   "cell_type": "code",
   "execution_count": 47,
   "id": "fb79740a",
   "metadata": {
    "ExecuteTime": {
     "end_time": "2023-02-27T13:14:21.649661Z",
     "start_time": "2023-02-27T13:14:21.629746Z"
    }
   },
   "outputs": [
    {
     "data": {
      "text/html": [
       "<div>\n",
       "<style scoped>\n",
       "    .dataframe tbody tr th:only-of-type {\n",
       "        vertical-align: middle;\n",
       "    }\n",
       "\n",
       "    .dataframe tbody tr th {\n",
       "        vertical-align: top;\n",
       "    }\n",
       "\n",
       "    .dataframe thead th {\n",
       "        text-align: right;\n",
       "    }\n",
       "</style>\n",
       "<table border=\"1\" class=\"dataframe\">\n",
       "  <thead>\n",
       "    <tr style=\"text-align: right;\">\n",
       "      <th></th>\n",
       "      <th>id</th>\n",
       "      <th>previously_insured</th>\n",
       "      <th>annual_premium</th>\n",
       "      <th>vintage</th>\n",
       "      <th>response</th>\n",
       "    </tr>\n",
       "  </thead>\n",
       "  <tbody>\n",
       "    <tr>\n",
       "      <th>0</th>\n",
       "      <td>1</td>\n",
       "      <td>0</td>\n",
       "      <td>40454.0</td>\n",
       "      <td>217</td>\n",
       "      <td>1</td>\n",
       "    </tr>\n",
       "    <tr>\n",
       "      <th>1</th>\n",
       "      <td>2</td>\n",
       "      <td>0</td>\n",
       "      <td>33536.0</td>\n",
       "      <td>183</td>\n",
       "      <td>0</td>\n",
       "    </tr>\n",
       "    <tr>\n",
       "      <th>2</th>\n",
       "      <td>3</td>\n",
       "      <td>0</td>\n",
       "      <td>38294.0</td>\n",
       "      <td>27</td>\n",
       "      <td>1</td>\n",
       "    </tr>\n",
       "    <tr>\n",
       "      <th>3</th>\n",
       "      <td>4</td>\n",
       "      <td>1</td>\n",
       "      <td>28619.0</td>\n",
       "      <td>203</td>\n",
       "      <td>0</td>\n",
       "    </tr>\n",
       "    <tr>\n",
       "      <th>4</th>\n",
       "      <td>5</td>\n",
       "      <td>1</td>\n",
       "      <td>27496.0</td>\n",
       "      <td>39</td>\n",
       "      <td>0</td>\n",
       "    </tr>\n",
       "  </tbody>\n",
       "</table>\n",
       "</div>"
      ],
      "text/plain": [
       "   id  previously_insured  annual_premium  vintage  response\n",
       "0   1                   0         40454.0      217         1\n",
       "1   2                   0         33536.0      183         0\n",
       "2   3                   0         38294.0       27         1\n",
       "3   4                   1         28619.0      203         0\n",
       "4   5                   1         27496.0       39         0"
      ]
     },
     "execution_count": 47,
     "metadata": {},
     "output_type": "execute_result"
    }
   ],
   "source": [
    "df_insurance.head()"
   ]
  },
  {
   "cell_type": "code",
   "execution_count": 48,
   "id": "600f90c2",
   "metadata": {
    "ExecuteTime": {
     "end_time": "2023-02-27T13:14:45.915158Z",
     "start_time": "2023-02-27T13:14:45.872320Z"
    }
   },
   "outputs": [
    {
     "data": {
      "text/plain": [
       "count    381109.000000\n",
       "mean         38.822584\n",
       "std          15.511611\n",
       "min          20.000000\n",
       "25%          25.000000\n",
       "50%          36.000000\n",
       "75%          49.000000\n",
       "max          85.000000\n",
       "Name: age, dtype: float64"
      ]
     },
     "execution_count": 48,
     "metadata": {},
     "output_type": "execute_result"
    }
   ],
   "source": [
    "df_users.age.describe()"
   ]
  },
  {
   "cell_type": "markdown",
   "id": "44912022",
   "metadata": {},
   "source": [
    "# 2.0 Description and data cleaning"
   ]
  },
  {
   "cell_type": "markdown",
   "id": "dfdc92cd",
   "metadata": {},
   "source": [
    "## Data Dictionary"
   ]
  },
  {
   "cell_type": "markdown",
   "id": "7922cc39",
   "metadata": {},
   "source": [
    "* <b> Id  </b> - Unique ID for the customer\n",
    "* <b> Gender </b>  - Gender of the customer\n",
    "* <b> Age </b> \t- Age of the customer\n",
    "* <b> Driving_License </b>  - 0 : Customer does not have DL, 1 : Customer already has DL\n",
    "* <b> Region_Code </b>  - Unique code for the region of the customer\n",
    "* <b> Previously_Insured </b>  - 1 : Customer already has Vehicle Insurance, 0 : Customer doesn't have Vehicle Insurance\n",
    "* <b> Vehicle_Age </b>  - Age of the Vehicle\n",
    "* <b> Vehicle_Damage </b>  - 1 : Customer got his/her vehicle damaged in the past. 0 : Customer didn't get his/her vehicle damaged in the past.\n",
    "* <b> Annual_Premium </b>  - The amount customer needs to pay as premium in the year\n",
    "* <b> Policy_Sales_Channel </b>  - Anonymized Code for the channel of outreaching to the customer ie. Different Agents, Over Mail, Over Phone, In Person, etc.\n",
    "* <b> Vintage </b>  - Number of Days, Customer has been associated with the company\n",
    "* <b> Response </b>  - 1 : Customer is interested, 0 : Customer is not interested"
   ]
  },
  {
   "cell_type": "code",
   "execution_count": null,
   "id": "fecf8017",
   "metadata": {},
   "outputs": [],
   "source": []
  }
 ],
 "metadata": {
  "kernelspec": {
   "display_name": "Python 3 (ipykernel)",
   "language": "python",
   "name": "python3"
  },
  "language_info": {
   "codemirror_mode": {
    "name": "ipython",
    "version": 3
   },
   "file_extension": ".py",
   "mimetype": "text/x-python",
   "name": "python",
   "nbconvert_exporter": "python",
   "pygments_lexer": "ipython3",
   "version": "3.9.15"
  }
 },
 "nbformat": 4,
 "nbformat_minor": 5
}
